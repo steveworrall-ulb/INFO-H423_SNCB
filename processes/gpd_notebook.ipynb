{
 "cells": [
  {
   "cell_type": "markdown",
   "id": "883105e1",
   "metadata": {},
   "source": [
    "conda create -n gpd python=3.9  \n",
    "conda activate gpd  \n",
    "conda install --channel conda-forge geopandas"
   ]
  },
  {
   "cell_type": "code",
   "execution_count": 1,
   "id": "76092bb6",
   "metadata": {},
   "outputs": [],
   "source": [
    "import pandas as pd\n",
    "import geopandas as gpd\n",
    "from shapely.geometry import Point, Polygon\n",
    "%matplotlib inline"
   ]
  },
  {
   "cell_type": "markdown",
   "id": "28add864",
   "metadata": {},
   "source": [
    "import pd and gpd  \n",
    "going to open csv files using shaply point  \n",
    "going to use shaply polygon to define boxes and boundries on maps  \n",
    "jupiter magic enable embedded maps and graphs in the notebook  "
   ]
  },
  {
   "cell_type": "code",
   "execution_count": 2,
   "id": "5770e0f2",
   "metadata": {},
   "outputs": [],
   "source": [
    "from mpl_toolkits.basemap import Basemap\n",
    "import matplotlib.pyplot as plt"
   ]
  },
  {
   "cell_type": "markdown",
   "id": "f8d47a2d",
   "metadata": {},
   "source": [
    "pip install basemap  \n",
    "basemap pyplot used are making nice looking custom map plots"
   ]
  },
  {
   "cell_type": "code",
   "execution_count": 3,
   "id": "5b512e40",
   "metadata": {},
   "outputs": [],
   "source": [
    "from geopy.geocoders import Nominatim\n",
    "from geopy.geocoders import GoogleV3"
   ]
  },
  {
   "cell_type": "code",
   "execution_count": 4,
   "id": "98c66dbb",
   "metadata": {},
   "outputs": [
    {
     "data": {
      "text/html": [
       "<div>\n",
       "<style scoped>\n",
       "    .dataframe tbody tr th:only-of-type {\n",
       "        vertical-align: middle;\n",
       "    }\n",
       "\n",
       "    .dataframe tbody tr th {\n",
       "        vertical-align: top;\n",
       "    }\n",
       "\n",
       "    .dataframe thead th {\n",
       "        text-align: right;\n",
       "    }\n",
       "</style>\n",
       "<table border=\"1\" class=\"dataframe\">\n",
       "  <thead>\n",
       "    <tr style=\"text-align: right;\">\n",
       "      <th></th>\n",
       "      <th>CELLCODE</th>\n",
       "      <th>EOFORIGIN</th>\n",
       "      <th>NOFORIGIN</th>\n",
       "      <th>geometry</th>\n",
       "    </tr>\n",
       "  </thead>\n",
       "  <tbody>\n",
       "    <tr>\n",
       "      <th>0</th>\n",
       "      <td>1kmE3768N3188</td>\n",
       "      <td>3768000</td>\n",
       "      <td>3188000</td>\n",
       "      <td>POLYGON ((3768000.000 3188000.000, 3768000.000...</td>\n",
       "    </tr>\n",
       "    <tr>\n",
       "      <th>1</th>\n",
       "      <td>1kmE3768N3189</td>\n",
       "      <td>3768000</td>\n",
       "      <td>3189000</td>\n",
       "      <td>POLYGON ((3768000.000 3189000.000, 3768000.000...</td>\n",
       "    </tr>\n",
       "    <tr>\n",
       "      <th>2</th>\n",
       "      <td>1kmE3768N3190</td>\n",
       "      <td>3768000</td>\n",
       "      <td>3190000</td>\n",
       "      <td>POLYGON ((3768000.000 3190000.000, 3768000.000...</td>\n",
       "    </tr>\n",
       "    <tr>\n",
       "      <th>3</th>\n",
       "      <td>1kmE3769N3182</td>\n",
       "      <td>3769000</td>\n",
       "      <td>3182000</td>\n",
       "      <td>POLYGON ((3769000.000 3182000.000, 3769000.000...</td>\n",
       "    </tr>\n",
       "    <tr>\n",
       "      <th>4</th>\n",
       "      <td>1kmE3769N3183</td>\n",
       "      <td>3769000</td>\n",
       "      <td>3183000</td>\n",
       "      <td>POLYGON ((3769000.000 3183000.000, 3769000.000...</td>\n",
       "    </tr>\n",
       "    <tr>\n",
       "      <th>5</th>\n",
       "      <td>1kmE3769N3184</td>\n",
       "      <td>3769000</td>\n",
       "      <td>3184000</td>\n",
       "      <td>POLYGON ((3769000.000 3184000.000, 3769000.000...</td>\n",
       "    </tr>\n",
       "    <tr>\n",
       "      <th>6</th>\n",
       "      <td>1kmE3769N3185</td>\n",
       "      <td>3769000</td>\n",
       "      <td>3185000</td>\n",
       "      <td>POLYGON ((3769000.000 3185000.000, 3769000.000...</td>\n",
       "    </tr>\n",
       "    <tr>\n",
       "      <th>7</th>\n",
       "      <td>1kmE3769N3186</td>\n",
       "      <td>3769000</td>\n",
       "      <td>3186000</td>\n",
       "      <td>POLYGON ((3769000.000 3186000.000, 3769000.000...</td>\n",
       "    </tr>\n",
       "    <tr>\n",
       "      <th>8</th>\n",
       "      <td>1kmE3769N3187</td>\n",
       "      <td>3769000</td>\n",
       "      <td>3187000</td>\n",
       "      <td>POLYGON ((3769000.000 3187000.000, 3769000.000...</td>\n",
       "    </tr>\n",
       "    <tr>\n",
       "      <th>9</th>\n",
       "      <td>1kmE3769N3188</td>\n",
       "      <td>3769000</td>\n",
       "      <td>3188000</td>\n",
       "      <td>POLYGON ((3769000.000 3188000.000, 3769000.000...</td>\n",
       "    </tr>\n",
       "    <tr>\n",
       "      <th>10</th>\n",
       "      <td>1kmE3769N3189</td>\n",
       "      <td>3769000</td>\n",
       "      <td>3189000</td>\n",
       "      <td>POLYGON ((3769000.000 3189000.000, 3769000.000...</td>\n",
       "    </tr>\n",
       "    <tr>\n",
       "      <th>11</th>\n",
       "      <td>1kmE3769N3190</td>\n",
       "      <td>3769000</td>\n",
       "      <td>3190000</td>\n",
       "      <td>POLYGON ((3769000.000 3190000.000, 3769000.000...</td>\n",
       "    </tr>\n",
       "    <tr>\n",
       "      <th>12</th>\n",
       "      <td>1kmE3769N3191</td>\n",
       "      <td>3769000</td>\n",
       "      <td>3191000</td>\n",
       "      <td>POLYGON ((3769000.000 3191000.000, 3769000.000...</td>\n",
       "    </tr>\n",
       "    <tr>\n",
       "      <th>13</th>\n",
       "      <td>1kmE3769N3192</td>\n",
       "      <td>3769000</td>\n",
       "      <td>3192000</td>\n",
       "      <td>POLYGON ((3769000.000 3192000.000, 3769000.000...</td>\n",
       "    </tr>\n",
       "    <tr>\n",
       "      <th>14</th>\n",
       "      <td>1kmE3769N3193</td>\n",
       "      <td>3769000</td>\n",
       "      <td>3193000</td>\n",
       "      <td>POLYGON ((3769000.000 3193000.000, 3769000.000...</td>\n",
       "    </tr>\n",
       "  </tbody>\n",
       "</table>\n",
       "</div>"
      ],
      "text/plain": [
       "         CELLCODE  EOFORIGIN  NOFORIGIN  \\\n",
       "0   1kmE3768N3188    3768000    3188000   \n",
       "1   1kmE3768N3189    3768000    3189000   \n",
       "2   1kmE3768N3190    3768000    3190000   \n",
       "3   1kmE3769N3182    3769000    3182000   \n",
       "4   1kmE3769N3183    3769000    3183000   \n",
       "5   1kmE3769N3184    3769000    3184000   \n",
       "6   1kmE3769N3185    3769000    3185000   \n",
       "7   1kmE3769N3186    3769000    3186000   \n",
       "8   1kmE3769N3187    3769000    3187000   \n",
       "9   1kmE3769N3188    3769000    3188000   \n",
       "10  1kmE3769N3189    3769000    3189000   \n",
       "11  1kmE3769N3190    3769000    3190000   \n",
       "12  1kmE3769N3191    3769000    3191000   \n",
       "13  1kmE3769N3192    3769000    3192000   \n",
       "14  1kmE3769N3193    3769000    3193000   \n",
       "\n",
       "                                             geometry  \n",
       "0   POLYGON ((3768000.000 3188000.000, 3768000.000...  \n",
       "1   POLYGON ((3768000.000 3189000.000, 3768000.000...  \n",
       "2   POLYGON ((3768000.000 3190000.000, 3768000.000...  \n",
       "3   POLYGON ((3769000.000 3182000.000, 3769000.000...  \n",
       "4   POLYGON ((3769000.000 3183000.000, 3769000.000...  \n",
       "5   POLYGON ((3769000.000 3184000.000, 3769000.000...  \n",
       "6   POLYGON ((3769000.000 3185000.000, 3769000.000...  \n",
       "7   POLYGON ((3769000.000 3186000.000, 3769000.000...  \n",
       "8   POLYGON ((3769000.000 3187000.000, 3769000.000...  \n",
       "9   POLYGON ((3769000.000 3188000.000, 3769000.000...  \n",
       "10  POLYGON ((3769000.000 3189000.000, 3769000.000...  \n",
       "11  POLYGON ((3769000.000 3190000.000, 3769000.000...  \n",
       "12  POLYGON ((3769000.000 3191000.000, 3769000.000...  \n",
       "13  POLYGON ((3769000.000 3192000.000, 3769000.000...  \n",
       "14  POLYGON ((3769000.000 3193000.000, 3769000.000...  "
      ]
     },
     "execution_count": 4,
     "metadata": {},
     "output_type": "execute_result"
    }
   ],
   "source": [
    "belgium = gpd.read_file(\"Belgium_shapefile/be_1km.shp\")\n",
    "belgium.head(15)"
   ]
  },
  {
   "cell_type": "markdown",
   "id": "3381b109",
   "metadata": {},
   "source": [
    "shp file from european environment agency:  \n",
    "https://www.eea.europa.eu/data-and-maps/data/eea-reference-grids-2/gis-files/belgium-shapefile"
   ]
  },
  {
   "cell_type": "code",
   "execution_count": 5,
   "id": "2f7cfc6a",
   "metadata": {},
   "outputs": [
    {
     "data": {
      "text/plain": [
       "<Axes: >"
      ]
     },
     "execution_count": 5,
     "metadata": {},
     "output_type": "execute_result"
    },
    {
     "data": {
      "image/png": "[encoded data removed]",
      "text/plain": [
       "<Figure size 640x480 with 1 Axes>"
      ]
     },
     "metadata": {},
     "output_type": "display_data"
    }
   ],
   "source": [
    "belgium.plot()"
   ]
  },
  {
   "cell_type": "code",
   "execution_count": 6,
   "id": "1aeff624",
   "metadata": {},
   "outputs": [
    {
     "data": {
      "text/html": [
       "<div>\n",
       "<style scoped>\n",
       "    .dataframe tbody tr th:only-of-type {\n",
       "        vertical-align: middle;\n",
       "    }\n",
       "\n",
       "    .dataframe tbody tr th {\n",
       "        vertical-align: top;\n",
       "    }\n",
       "\n",
       "    .dataframe thead th {\n",
       "        text-align: right;\n",
       "    }\n",
       "</style>\n",
       "<table border=\"1\" class=\"dataframe\">\n",
       "  <thead>\n",
       "    <tr style=\"text-align: right;\">\n",
       "      <th></th>\n",
       "      <th>ID_0</th>\n",
       "      <th>ISO</th>\n",
       "      <th>NAME_ENGLI</th>\n",
       "      <th>NAME_ISO</th>\n",
       "      <th>NAME_FAO</th>\n",
       "      <th>NAME_LOCAL</th>\n",
       "      <th>NAME_OBSOL</th>\n",
       "      <th>NAME_VARIA</th>\n",
       "      <th>NAME_NONLA</th>\n",
       "      <th>NAME_FRENC</th>\n",
       "      <th>...</th>\n",
       "      <th>CARICOM</th>\n",
       "      <th>EU</th>\n",
       "      <th>CAN</th>\n",
       "      <th>ACP</th>\n",
       "      <th>Landlocked</th>\n",
       "      <th>AOSIS</th>\n",
       "      <th>SIDS</th>\n",
       "      <th>Islands</th>\n",
       "      <th>LDC</th>\n",
       "      <th>geometry</th>\n",
       "    </tr>\n",
       "  </thead>\n",
       "  <tbody>\n",
       "    <tr>\n",
       "      <th>0</th>\n",
       "      <td>23</td>\n",
       "      <td>BEL</td>\n",
       "      <td>Belgium</td>\n",
       "      <td>BELGIUM</td>\n",
       "      <td>Belgium</td>\n",
       "      <td>Belgique|Belgie|Belgien</td>\n",
       "      <td>None</td>\n",
       "      <td>Belgique|Belgien|Belgium</td>\n",
       "      <td>None</td>\n",
       "      <td>Belgique</td>\n",
       "      <td>...</td>\n",
       "      <td>0.0</td>\n",
       "      <td>1.0</td>\n",
       "      <td>0.0</td>\n",
       "      <td>0.0</td>\n",
       "      <td>0.0</td>\n",
       "      <td>0.0</td>\n",
       "      <td>0.0</td>\n",
       "      <td>0.0</td>\n",
       "      <td>0.0</td>\n",
       "      <td>MULTIPOLYGON (((3.36583 51.36655, 3.36806 51.3...</td>\n",
       "    </tr>\n",
       "  </tbody>\n",
       "</table>\n",
       "<p>1 rows × 68 columns</p>\n",
       "</div>"
      ],
      "text/plain": [
       "   ID_0  ISO NAME_ENGLI NAME_ISO NAME_FAO               NAME_LOCAL NAME_OBSOL  \\\n",
       "0    23  BEL    Belgium  BELGIUM  Belgium  Belgique|Belgie|Belgien       None   \n",
       "\n",
       "                 NAME_VARIA NAME_NONLA NAME_FRENC  ... CARICOM   EU  CAN  ACP  \\\n",
       "0  Belgique|Belgien|Belgium       None   Belgique  ...     0.0  1.0  0.0  0.0   \n",
       "\n",
       "  Landlocked AOSIS SIDS Islands  LDC  \\\n",
       "0        0.0   0.0  0.0     0.0  0.0   \n",
       "\n",
       "                                            geometry  \n",
       "0  MULTIPOLYGON (((3.36583 51.36655, 3.36806 51.3...  \n",
       "\n",
       "[1 rows x 68 columns]"
      ]
     },
     "execution_count": 6,
     "metadata": {},
     "output_type": "execute_result"
    }
   ],
   "source": [
    "belgium2 = gpd.read_file(\"BEL_data_shapefile/BEL_adm0.shp\")\n",
    "belgium2.head(15)"
   ]
  },
  {
   "cell_type": "code",
   "execution_count": 7,
   "id": "e59ba95c",
   "metadata": {},
   "outputs": [
    {
     "data": {
      "text/plain": [
       "<Axes: >"
      ]
     },
     "execution_count": 7,
     "metadata": {},
     "output_type": "execute_result"
    },
    {
     "data": {
      "image/png": "[encoded data removed]",
      "text/plain": [
       "<Figure size 640x480 with 1 Axes>"
      ]
     },
     "metadata": {},
     "output_type": "display_data"
    }
   ],
   "source": [
    "belgium2.plot()"
   ]
  },
  {
   "cell_type": "markdown",
   "id": "f893a8b8",
   "metadata": {},
   "source": [
    "To open a CSV:  \n",
    "open it with pandas  \n",
    "feed lon/lat to shapley  \n",
    "original dataframe + geometry => geodataframe  \n",
    "tell the new geodataframe that coords are lat and long  "
   ]
  },
  {
   "cell_type": "code",
   "execution_count": 18,
   "id": "4d1d4966",
   "metadata": {},
   "outputs": [
    {
     "data": {
      "text/html": [
       "<div>\n",
       "<style scoped>\n",
       "    .dataframe tbody tr th:only-of-type {\n",
       "        vertical-align: middle;\n",
       "    }\n",
       "\n",
       "    .dataframe tbody tr th {\n",
       "        vertical-align: top;\n",
       "    }\n",
       "\n",
       "    .dataframe thead th {\n",
       "        text-align: right;\n",
       "    }\n",
       "</style>\n",
       "<table border=\"1\" class=\"dataframe\">\n",
       "  <thead>\n",
       "    <tr style=\"text-align: right;\">\n",
       "      <th></th>\n",
       "      <th>Unnamed: 0</th>\n",
       "      <th>mapped_veh_id</th>\n",
       "      <th>timestamps_UTC</th>\n",
       "      <th>lat</th>\n",
       "      <th>lon</th>\n",
       "      <th>RS_E_InAirTemp_PC1</th>\n",
       "      <th>RS_E_InAirTemp_PC2</th>\n",
       "      <th>RS_E_OilPress_PC1</th>\n",
       "      <th>RS_E_OilPress_PC2</th>\n",
       "      <th>RS_E_RPM_PC1</th>\n",
       "      <th>RS_E_RPM_PC2</th>\n",
       "      <th>RS_E_WatTemp_PC1</th>\n",
       "      <th>RS_E_WatTemp_PC2</th>\n",
       "      <th>RS_T_OilTemp_PC1</th>\n",
       "      <th>RS_T_OilTemp_PC2</th>\n",
       "    </tr>\n",
       "  </thead>\n",
       "  <tbody>\n",
       "    <tr>\n",
       "      <th>0</th>\n",
       "      <td>0</td>\n",
       "      <td>181.0</td>\n",
       "      <td>2023-08-01 03:44:12</td>\n",
       "      <td>50.769818</td>\n",
       "      <td>3.872114</td>\n",
       "      <td>27.0</td>\n",
       "      <td>23.0</td>\n",
       "      <td>255.0</td>\n",
       "      <td>238.0</td>\n",
       "      <td>794.0</td>\n",
       "      <td>801.0</td>\n",
       "      <td>83.0</td>\n",
       "      <td>81.0</td>\n",
       "      <td>76.0</td>\n",
       "      <td>77.0</td>\n",
       "    </tr>\n",
       "    <tr>\n",
       "      <th>1</th>\n",
       "      <td>1</td>\n",
       "      <td>143.0</td>\n",
       "      <td>2023-08-01 06:36:29</td>\n",
       "      <td>51.039993</td>\n",
       "      <td>3.693429</td>\n",
       "      <td>33.0</td>\n",
       "      <td>32.0</td>\n",
       "      <td>272.0</td>\n",
       "      <td>324.0</td>\n",
       "      <td>802.0</td>\n",
       "      <td>804.0</td>\n",
       "      <td>78.0</td>\n",
       "      <td>78.0</td>\n",
       "      <td>73.0</td>\n",
       "      <td>74.0</td>\n",
       "    </tr>\n",
       "    <tr>\n",
       "      <th>2</th>\n",
       "      <td>2</td>\n",
       "      <td>183.0</td>\n",
       "      <td>2023-08-24 06:53:54</td>\n",
       "      <td>50.742203</td>\n",
       "      <td>3.602035</td>\n",
       "      <td>31.0</td>\n",
       "      <td>33.0</td>\n",
       "      <td>234.0</td>\n",
       "      <td>182.0</td>\n",
       "      <td>799.0</td>\n",
       "      <td>802.0</td>\n",
       "      <td>82.0</td>\n",
       "      <td>82.0</td>\n",
       "      <td>85.0</td>\n",
       "      <td>87.0</td>\n",
       "    </tr>\n",
       "    <tr>\n",
       "      <th>3</th>\n",
       "      <td>3</td>\n",
       "      <td>177.0</td>\n",
       "      <td>2023-08-01 13:53:38</td>\n",
       "      <td>50.930914</td>\n",
       "      <td>5.327132</td>\n",
       "      <td>35.0</td>\n",
       "      <td>38.0</td>\n",
       "      <td>220.0</td>\n",
       "      <td>244.0</td>\n",
       "      <td>794.0</td>\n",
       "      <td>801.0</td>\n",
       "      <td>77.0</td>\n",
       "      <td>81.0</td>\n",
       "      <td>78.0</td>\n",
       "      <td>82.0</td>\n",
       "    </tr>\n",
       "    <tr>\n",
       "      <th>4</th>\n",
       "      <td>4</td>\n",
       "      <td>143.0</td>\n",
       "      <td>2023-08-24 07:02:30</td>\n",
       "      <td>51.180773</td>\n",
       "      <td>3.575259</td>\n",
       "      <td>41.0</td>\n",
       "      <td>34.0</td>\n",
       "      <td>227.0</td>\n",
       "      <td>282.0</td>\n",
       "      <td>806.0</td>\n",
       "      <td>800.0</td>\n",
       "      <td>85.0</td>\n",
       "      <td>78.0</td>\n",
       "      <td>82.0</td>\n",
       "      <td>79.0</td>\n",
       "    </tr>\n",
       "  </tbody>\n",
       "</table>\n",
       "</div>"
      ],
      "text/plain": [
       "   Unnamed: 0  mapped_veh_id       timestamps_UTC        lat       lon  \\\n",
       "0           0          181.0  2023-08-01 03:44:12  50.769818  3.872114   \n",
       "1           1          143.0  2023-08-01 06:36:29  51.039993  3.693429   \n",
       "2           2          183.0  2023-08-24 06:53:54  50.742203  3.602035   \n",
       "3           3          177.0  2023-08-01 13:53:38  50.930914  5.327132   \n",
       "4           4          143.0  2023-08-24 07:02:30  51.180773  3.575259   \n",
       "\n",
       "   RS_E_InAirTemp_PC1  RS_E_InAirTemp_PC2  RS_E_OilPress_PC1  \\\n",
       "0                27.0                23.0              255.0   \n",
       "1                33.0                32.0              272.0   \n",
       "2                31.0                33.0              234.0   \n",
       "3                35.0                38.0              220.0   \n",
       "4                41.0                34.0              227.0   \n",
       "\n",
       "   RS_E_OilPress_PC2  RS_E_RPM_PC1  RS_E_RPM_PC2  RS_E_WatTemp_PC1  \\\n",
       "0              238.0         794.0         801.0              83.0   \n",
       "1              324.0         802.0         804.0              78.0   \n",
       "2              182.0         799.0         802.0              82.0   \n",
       "3              244.0         794.0         801.0              77.0   \n",
       "4              282.0         806.0         800.0              85.0   \n",
       "\n",
       "   RS_E_WatTemp_PC2  RS_T_OilTemp_PC1  RS_T_OilTemp_PC2  \n",
       "0              81.0              76.0              77.0  \n",
       "1              78.0              73.0              74.0  \n",
       "2              82.0              85.0              87.0  \n",
       "3              81.0              78.0              82.0  \n",
       "4              78.0              82.0              79.0  "
      ]
     },
     "execution_count": 18,
     "metadata": {},
     "output_type": "execute_result"
    }
   ],
   "source": [
    "#df = pd.read_csv(\"project/ar41_for_ulb_mini.csv\", sep=';')\n",
    "df = pd.read_csv(\"project/ar41_for_ulb.csv\", sep=';')\n",
    "#df = df.loc[df['mapped_veh_id'] == 172.0]\n",
    "#df = df.sort_values('timestamps_UTC')\n",
    "df.head()"
   ]
  },
  {
   "cell_type": "code",
   "execution_count": 19,
   "id": "401cf810",
   "metadata": {},
   "outputs": [
    {
     "data": {
      "image/svg+xml": [
       "<svg xmlns=\"http://www.w3.org/2000/svg\" xmlns:xlink=\"http://www.w3.org/1999/xlink\" width=\"100.0\" height=\"100.0\" viewBox=\"9.0 9.0 2.0 2.0\" preserveAspectRatio=\"xMinYMin meet\"><g transform=\"matrix(1,0,0,-1,0,20.0)\"><circle cx=\"10.0\" cy=\"10.0\" r=\"0.06\" stroke=\"#555555\" stroke-width=\"0.02\" fill=\"#66cc99\" opacity=\"0.6\" /></g></svg>"
      ],
      "text/plain": [
       "<POINT (10 10)>"
      ]
     },
     "execution_count": 19,
     "metadata": {},
     "output_type": "execute_result"
    }
   ],
   "source": [
    "Point([10,10])"
   ]
  },
  {
   "cell_type": "code",
   "execution_count": 20,
   "id": "fdafc06c",
   "metadata": {},
   "outputs": [
    {
     "data": {
      "text/plain": [
       "0    POINT (3.8721144 50.7698183)\n",
       "1    POINT (3.6934285 51.0399934)\n",
       "2    POINT (3.6020347 50.7422026)\n",
       "3    POINT (5.3271318 50.9309143)\n",
       "4    POINT (3.5752586 51.1807725)\n",
       "dtype: object"
      ]
     },
     "execution_count": 20,
     "metadata": {},
     "output_type": "execute_result"
    }
   ],
   "source": [
    "points = df.apply(lambda row: Point(row.lon, row.lat), axis=1)\n",
    "points.head()"
   ]
  },
  {
   "cell_type": "code",
   "execution_count": 21,
   "id": "4a5c82ec",
   "metadata": {},
   "outputs": [
    {
     "data": {
      "text/html": [
       "<div>\n",
       "<style scoped>\n",
       "    .dataframe tbody tr th:only-of-type {\n",
       "        vertical-align: middle;\n",
       "    }\n",
       "\n",
       "    .dataframe tbody tr th {\n",
       "        vertical-align: top;\n",
       "    }\n",
       "\n",
       "    .dataframe thead th {\n",
       "        text-align: right;\n",
       "    }\n",
       "</style>\n",
       "<table border=\"1\" class=\"dataframe\">\n",
       "  <thead>\n",
       "    <tr style=\"text-align: right;\">\n",
       "      <th></th>\n",
       "      <th>Unnamed: 0</th>\n",
       "      <th>mapped_veh_id</th>\n",
       "      <th>timestamps_UTC</th>\n",
       "      <th>lat</th>\n",
       "      <th>lon</th>\n",
       "      <th>RS_E_InAirTemp_PC1</th>\n",
       "      <th>RS_E_InAirTemp_PC2</th>\n",
       "      <th>RS_E_OilPress_PC1</th>\n",
       "      <th>RS_E_OilPress_PC2</th>\n",
       "      <th>RS_E_RPM_PC1</th>\n",
       "      <th>RS_E_RPM_PC2</th>\n",
       "      <th>RS_E_WatTemp_PC1</th>\n",
       "      <th>RS_E_WatTemp_PC2</th>\n",
       "      <th>RS_T_OilTemp_PC1</th>\n",
       "      <th>RS_T_OilTemp_PC2</th>\n",
       "      <th>geometry</th>\n",
       "    </tr>\n",
       "  </thead>\n",
       "  <tbody>\n",
       "    <tr>\n",
       "      <th>0</th>\n",
       "      <td>0</td>\n",
       "      <td>181.0</td>\n",
       "      <td>2023-08-01 03:44:12</td>\n",
       "      <td>50.769818</td>\n",
       "      <td>3.872114</td>\n",
       "      <td>27.0</td>\n",
       "      <td>23.0</td>\n",
       "      <td>255.0</td>\n",
       "      <td>238.0</td>\n",
       "      <td>794.0</td>\n",
       "      <td>801.0</td>\n",
       "      <td>83.0</td>\n",
       "      <td>81.0</td>\n",
       "      <td>76.0</td>\n",
       "      <td>77.0</td>\n",
       "      <td>POINT (3.87211 50.76982)</td>\n",
       "    </tr>\n",
       "    <tr>\n",
       "      <th>1</th>\n",
       "      <td>1</td>\n",
       "      <td>143.0</td>\n",
       "      <td>2023-08-01 06:36:29</td>\n",
       "      <td>51.039993</td>\n",
       "      <td>3.693429</td>\n",
       "      <td>33.0</td>\n",
       "      <td>32.0</td>\n",
       "      <td>272.0</td>\n",
       "      <td>324.0</td>\n",
       "      <td>802.0</td>\n",
       "      <td>804.0</td>\n",
       "      <td>78.0</td>\n",
       "      <td>78.0</td>\n",
       "      <td>73.0</td>\n",
       "      <td>74.0</td>\n",
       "      <td>POINT (3.69343 51.03999)</td>\n",
       "    </tr>\n",
       "    <tr>\n",
       "      <th>2</th>\n",
       "      <td>2</td>\n",
       "      <td>183.0</td>\n",
       "      <td>2023-08-24 06:53:54</td>\n",
       "      <td>50.742203</td>\n",
       "      <td>3.602035</td>\n",
       "      <td>31.0</td>\n",
       "      <td>33.0</td>\n",
       "      <td>234.0</td>\n",
       "      <td>182.0</td>\n",
       "      <td>799.0</td>\n",
       "      <td>802.0</td>\n",
       "      <td>82.0</td>\n",
       "      <td>82.0</td>\n",
       "      <td>85.0</td>\n",
       "      <td>87.0</td>\n",
       "      <td>POINT (3.60203 50.74220)</td>\n",
       "    </tr>\n",
       "    <tr>\n",
       "      <th>3</th>\n",
       "      <td>3</td>\n",
       "      <td>177.0</td>\n",
       "      <td>2023-08-01 13:53:38</td>\n",
       "      <td>50.930914</td>\n",
       "      <td>5.327132</td>\n",
       "      <td>35.0</td>\n",
       "      <td>38.0</td>\n",
       "      <td>220.0</td>\n",
       "      <td>244.0</td>\n",
       "      <td>794.0</td>\n",
       "      <td>801.0</td>\n",
       "      <td>77.0</td>\n",
       "      <td>81.0</td>\n",
       "      <td>78.0</td>\n",
       "      <td>82.0</td>\n",
       "      <td>POINT (5.32713 50.93091)</td>\n",
       "    </tr>\n",
       "    <tr>\n",
       "      <th>4</th>\n",
       "      <td>4</td>\n",
       "      <td>143.0</td>\n",
       "      <td>2023-08-24 07:02:30</td>\n",
       "      <td>51.180773</td>\n",
       "      <td>3.575259</td>\n",
       "      <td>41.0</td>\n",
       "      <td>34.0</td>\n",
       "      <td>227.0</td>\n",
       "      <td>282.0</td>\n",
       "      <td>806.0</td>\n",
       "      <td>800.0</td>\n",
       "      <td>85.0</td>\n",
       "      <td>78.0</td>\n",
       "      <td>82.0</td>\n",
       "      <td>79.0</td>\n",
       "      <td>POINT (3.57526 51.18077)</td>\n",
       "    </tr>\n",
       "  </tbody>\n",
       "</table>\n",
       "</div>"
      ],
      "text/plain": [
       "   Unnamed: 0  mapped_veh_id       timestamps_UTC        lat       lon  \\\n",
       "0           0          181.0  2023-08-01 03:44:12  50.769818  3.872114   \n",
       "1           1          143.0  2023-08-01 06:36:29  51.039993  3.693429   \n",
       "2           2          183.0  2023-08-24 06:53:54  50.742203  3.602035   \n",
       "3           3          177.0  2023-08-01 13:53:38  50.930914  5.327132   \n",
       "4           4          143.0  2023-08-24 07:02:30  51.180773  3.575259   \n",
       "\n",
       "   RS_E_InAirTemp_PC1  RS_E_InAirTemp_PC2  RS_E_OilPress_PC1  \\\n",
       "0                27.0                23.0              255.0   \n",
       "1                33.0                32.0              272.0   \n",
       "2                31.0                33.0              234.0   \n",
       "3                35.0                38.0              220.0   \n",
       "4                41.0                34.0              227.0   \n",
       "\n",
       "   RS_E_OilPress_PC2  RS_E_RPM_PC1  RS_E_RPM_PC2  RS_E_WatTemp_PC1  \\\n",
       "0              238.0         794.0         801.0              83.0   \n",
       "1              324.0         802.0         804.0              78.0   \n",
       "2              182.0         799.0         802.0              82.0   \n",
       "3              244.0         794.0         801.0              77.0   \n",
       "4              282.0         806.0         800.0              85.0   \n",
       "\n",
       "   RS_E_WatTemp_PC2  RS_T_OilTemp_PC1  RS_T_OilTemp_PC2  \\\n",
       "0              81.0              76.0              77.0   \n",
       "1              78.0              73.0              74.0   \n",
       "2              82.0              85.0              87.0   \n",
       "3              81.0              78.0              82.0   \n",
       "4              78.0              82.0              79.0   \n",
       "\n",
       "                   geometry  \n",
       "0  POINT (3.87211 50.76982)  \n",
       "1  POINT (3.69343 51.03999)  \n",
       "2  POINT (3.60203 50.74220)  \n",
       "3  POINT (5.32713 50.93091)  \n",
       "4  POINT (3.57526 51.18077)  "
      ]
     },
     "execution_count": 21,
     "metadata": {},
     "output_type": "execute_result"
    }
   ],
   "source": [
    "trains_data = gpd.GeoDataFrame(df, geometry=points)\n",
    "trains_data.crs = 'epsg:4326'\n",
    "trains_data.head()"
   ]
  },
  {
   "cell_type": "code",
   "execution_count": 22,
   "id": "045f6bdc",
   "metadata": {},
   "outputs": [],
   "source": [
    "#trains_data.plot(markersize=1)\n",
    "#type(trains_data)"
   ]
  },
  {
   "cell_type": "markdown",
   "id": "e4f45378",
   "metadata": {},
   "source": [
    "convert to a local coordinate system for belgium: EPSG:31370  \n",
    "and perform distance calculation  \n",
    "https://epsg.io/31370"
   ]
  },
  {
   "cell_type": "code",
   "execution_count": 23,
   "id": "7962cdf4",
   "metadata": {},
   "outputs": [],
   "source": [
    "trains_data = trains_data.to_crs('EPSG:31370')\n",
    "#trains_data2 = trains_data.shift() #We shift the dataframe by 1 rown down to align pnt1 with pnt2\n",
    "#distances = trains_data.distance(trains_data2)\n",
    "#distances"
   ]
  },
  {
   "cell_type": "code",
   "execution_count": 11,
   "id": "5a937b17",
   "metadata": {},
   "outputs": [],
   "source": [
    "#type(distances)"
   ]
  },
  {
   "cell_type": "code",
   "execution_count": 12,
   "id": "3acb109c",
   "metadata": {},
   "outputs": [],
   "source": [
    "#distances.to_csv('distout_EPSG_31370.csv')\n",
    "#print ('file written to:')\n",
    "#%pwd"
   ]
  },
  {
   "cell_type": "markdown",
   "id": "162f0dd6",
   "metadata": {},
   "source": [
    "extract x y coordinates and output to a CSV file"
   ]
  },
  {
   "cell_type": "code",
   "execution_count": 13,
   "id": "ec7c433f",
   "metadata": {},
   "outputs": [],
   "source": [
    "xy_set = trains_data.get_coordinates()"
   ]
  },
  {
   "cell_type": "code",
   "execution_count": 14,
   "id": "a8e34fd6",
   "metadata": {},
   "outputs": [
    {
     "data": {
      "text/plain": [
       "pandas.core.frame.DataFrame"
      ]
     },
     "execution_count": 14,
     "metadata": {},
     "output_type": "execute_result"
    }
   ],
   "source": [
    "type(xy_set)"
   ]
  },
  {
   "cell_type": "code",
   "execution_count": 15,
   "id": "23e7c58f",
   "metadata": {},
   "outputs": [],
   "source": [
    "xy_set.to_csv('xy_out.csv')\n"
   ]
  },
  {
   "cell_type": "code",
   "execution_count": null,
   "id": "a2480437",
   "metadata": {},
   "outputs": [],
   "source": []
  }
 ],
 "metadata": {
  "kernelspec": {
   "display_name": "Python 3 (ipykernel)",
   "language": "python",
   "name": "python3"
  },
  "language_info": {
   "codemirror_mode": {
    "name": "ipython",
    "version": 3
   },
   "file_extension": ".py",
   "mimetype": "text/x-python",
   "name": "python",
   "nbconvert_exporter": "python",
   "pygments_lexer": "ipython3",
   "version": "3.9.18"
  }
 },
 "nbformat": 4,
 "nbformat_minor": 5
}
